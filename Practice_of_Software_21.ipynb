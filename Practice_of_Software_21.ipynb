{
 "cells": [
  {
   "cell_type": "markdown",
   "id": "0b1e362d",
   "metadata": {},
   "source": [
    "## (21)\t画像を選んで表示（4日目3時限：13:00-14:10）¶\n",
    "### 教科書p.188～193　12日目を説明します。"
   ]
  },
  {
   "cell_type": "markdown",
   "id": "661bc431",
   "metadata": {},
   "source": [
    "### 12日目1/1 「【課題６】画像を選んで表示しよう！」\n",
    "教科書p.180～181のLet's Try 24で作成したプログラムに、STEP1～STEP7にしたがって、テキストエディタでPythonコードを入力してファイルに保存して、保存したファイルをGoogle Colabを使って実行しましょう。<br>\n",
    "また、Codeのセルを作り、Let's Try 24のセルからプログラムをコピーして、そこにSTEP1～STEP7にしたがって、Pythonコードを追加して、実行しましょう。<br>\n",
    "ただし、コマンドライン引数は指定できないので、その部分はコメントアウトしてください。（行頭に# を入力します）<br>\n",
    "また、fileには、コマンドラインで指定するファイル名を直接入れてください。\n",
    "\n",
    "教科書p.191の「他の画像を準備しよう！」は、<br>\n",
    "【課題1】でダウンロードした４つの画像ファイル（\"girl02.jpg\",\"girl03.jpg\", \"girl04.jpg\", \"mt-girlface.jpg\"）をセッションストレージにアップロードしてください。<br>\n",
    "そして、「他の画像を表示しよう！」をコマンドライン引数を使う方法と、Google Colabを使う方法で実施してみてください。"
   ]
  }
 ],
 "metadata": {
  "kernelspec": {
   "display_name": "Python 3 (ipykernel)",
   "language": "python",
   "name": "python3"
  },
  "language_info": {
   "codemirror_mode": {
    "name": "ipython",
    "version": 3
   },
   "file_extension": ".py",
   "mimetype": "text/x-python",
   "name": "python",
   "nbconvert_exporter": "python",
   "pygments_lexer": "ipython3",
   "version": "3.8.13"
  }
 },
 "nbformat": 4,
 "nbformat_minor": 5
}
