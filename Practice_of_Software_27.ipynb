{
 "cells": [
  {
   "cell_type": "markdown",
   "id": "0b1e362d",
   "metadata": {},
   "source": [
    "## (27)\t特徴点で一致具合を見る（5日目3時限：13:00-14:10）\n",
    "### 教科書p.236～240　18日目を説明します。"
   ]
  },
  {
   "cell_type": "markdown",
   "id": "661bc431",
   "metadata": {},
   "source": [
    "### 18日目1/1 「【課題１０】特徴点で一致具合を見てみよう！」\n",
    "教科書p.188～193【課題６】で作成したプログラムに、STEP1～STEP8にしたがって、テキストエディタでPythonコードを入力してファイルに保存して、保存したファイルをGoogle Colabを使って実行しましょう。<br>\n",
    "また、Codeのセルを作り、【課題６】のセルからプログラムをコピーして、そこにSTEP1～STEP8にしたがって、Pythonコードを追加して、実行しましょう。<br>\n",
    "ただし、コマンドライン引数は指定できないので、その部分はコメントアウトしてください。（行頭に# を入力します）<br>\n",
    "また、file1とfile2には、コマンドラインで指定するファイル名を直接入れてください。"
   ]
  }
 ],
 "metadata": {
  "kernelspec": {
   "display_name": "Python 3 (ipykernel)",
   "language": "python",
   "name": "python3"
  },
  "language_info": {
   "codemirror_mode": {
    "name": "ipython",
    "version": 3
   },
   "file_extension": ".py",
   "mimetype": "text/x-python",
   "name": "python",
   "nbconvert_exporter": "python",
   "pygments_lexer": "ipython3",
   "version": "3.8.13"
  }
 },
 "nbformat": 4,
 "nbformat_minor": 5
}
