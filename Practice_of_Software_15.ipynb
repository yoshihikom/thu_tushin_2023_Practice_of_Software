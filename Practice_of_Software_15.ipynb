{
 "cells": [
  {
   "cell_type": "markdown",
   "id": "d6e2f864",
   "metadata": {},
   "source": [
    "## (15)コメント、定数、キッチンの最適な高さを計算①（3日目3時限：13:00-14:10）\n",
    "### 教科書p.92～101　６日目を説明します。"
   ]
  },
  {
   "cell_type": "markdown",
   "id": "039ca968",
   "metadata": {},
   "source": [
    "### 6日目1/3 「わかりやすい内容で書こう！」\n",
    "\n",
    "#### 定数を指定する方法\n",
    "\n",
    "定数名 = 値\n",
    "\n",
    "#### Let's Try 5 「「定数を使ってBMI値を計算」してみよう！」\n",
    "以下にCodeのセルを作り、そこに教科書p.93の＜定数を使ったPythonコード>を入力し、実行しましょう。<br>\n",
    "また、教科書の方法（「テキストエディタ」と「ターミナル」を使う方法）を説明しますので、テキストエディタでコードを入力してファイルに保存して、保存したファイルをGoogle Colabを使って実行してください。"
   ]
  },
  {
   "cell_type": "markdown",
   "id": "5a92aadf",
   "metadata": {},
   "source": [
    "### 6日目2/3 「さらにわかりやすい対策をしよう！」\n",
    "#### コメントの使い方\n",
    "\n",
    "#コメント文\n",
    "\n",
    "#### Let's Try 6 「「コメントを使ってわかりやすく」してみよう！」\n",
    "以下にCodeのセルを作り、そこに教科書p.95の＜コメントを使ったPythonコード>を入力し、実行しましょう。<br>\n",
    "また、教科書の方法（「テキストエディタ」と「ターミナル」を使う方法）を説明しますので、テキストエディタでコードを入力してファイルに保存して、保存したファイルをGoogle Colabを使って実行してください。"
   ]
  },
  {
   "cell_type": "markdown",
   "id": "3d2125cf",
   "metadata": {},
   "source": [
    "### 6日目3/3 「【課題２】キッチンの最適な高さを計算しよう！」\n",
    "以下にCodeのセルを作り、そこに教科書p.96～101のSTEP2、STEP3、STEP4、STEP5、STEP6のコードを入力し、実行してみましょう。<br>\n",
    "また、教科書の方法（「テキストエディタ」と「ターミナル」を使う方法）を説明しますので、テキストエディタで作成したファイルを、「kitchen_height_calc.py」で保存して、保存したファイルをGoogle Colabを使って実行してみましょう。"
   ]
  }
 ],
 "metadata": {
  "kernelspec": {
   "display_name": "Python 3 (ipykernel)",
   "language": "python",
   "name": "python3"
  },
  "language_info": {
   "codemirror_mode": {
    "name": "ipython",
    "version": 3
   },
   "file_extension": ".py",
   "mimetype": "text/x-python",
   "name": "python",
   "nbconvert_exporter": "python",
   "pygments_lexer": "ipython3",
   "version": "3.8.13"
  }
 },
 "nbformat": 4,
 "nbformat_minor": 5
}
